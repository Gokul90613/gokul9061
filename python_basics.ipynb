{
  "nbformat": 4,
  "nbformat_minor": 0,
  "metadata": {
    "colab": {
      "provenance": [],
      "include_colab_link": true
    },
    "kernelspec": {
      "name": "python3",
      "display_name": "Python 3"
    },
    "language_info": {
      "name": "python"
    }
  },
  "cells": [
    {
      "cell_type": "markdown",
      "metadata": {
        "id": "view-in-github",
        "colab_type": "text"
      },
      "source": [
        "<a href=\"https://colab.research.google.com/github/Gokul90613/gokul9061/blob/main/python_basics.ipynb\" target=\"_parent\"><img src=\"https://colab.research.google.com/assets/colab-badge.svg\" alt=\"Open In Colab\"/></a>"
      ]
    },
    {
      "cell_type": "markdown",
      "source": [
        "# ***Practice Problems Day 01***"
      ],
      "metadata": {
        "id": "ENd3JATyAGJ5"
      }
    },
    {
      "cell_type": "markdown",
      "source": [
        "***1. Given the string \"Hello, World!\", extract and print the\n",
        "substring \"Hello\".***"
      ],
      "metadata": {
        "id": "bgtYQWEN8gTB"
      }
    },
    {
      "cell_type": "code",
      "source": [
        "string = \"Hello, World!\"\n",
        "substring = string[:5]\n",
        "print(substring)\n"
      ],
      "metadata": {
        "colab": {
          "base_uri": "https://localhost:8080/"
        },
        "id": "Ckxc-A3d8o8R",
        "outputId": "0e2e74e3-1602-4e76-bad7-96daf04a910b"
      },
      "execution_count": 1,
      "outputs": [
        {
          "output_type": "stream",
          "name": "stdout",
          "text": [
            "Hello\n"
          ]
        }
      ]
    },
    {
      "cell_type": "markdown",
      "source": [
        "***2. Given the string \"Python is fun\", extract and print the\n",
        "substring \"is\".***"
      ],
      "metadata": {
        "id": "psdtXnkl8thb"
      }
    },
    {
      "cell_type": "code",
      "source": [
        "string = \"Python is fun\"\n",
        "substring = string[7:9]\n",
        "print(substring)\n"
      ],
      "metadata": {
        "colab": {
          "base_uri": "https://localhost:8080/"
        },
        "id": "v34l9CVD8yNp",
        "outputId": "14e5eead-74a3-41f2-f40c-2e1e018f356b"
      },
      "execution_count": 2,
      "outputs": [
        {
          "output_type": "stream",
          "name": "stdout",
          "text": [
            "is\n"
          ]
        }
      ]
    },
    {
      "cell_type": "markdown",
      "source": [
        "***3. Given the string \"Programming\", extract and print the\n",
        "substring \"gram\" using slicing indices.***"
      ],
      "metadata": {
        "id": "XFH4gjss85g5"
      }
    },
    {
      "cell_type": "code",
      "source": [
        "string = \"Programming\"\n",
        "substring = string[3:7]\n",
        "print(substring)\n"
      ],
      "metadata": {
        "colab": {
          "base_uri": "https://localhost:8080/"
        },
        "id": "qHIifdtX9BqD",
        "outputId": "0dcd82d1-b548-4b8b-8060-fa6243616751"
      },
      "execution_count": 3,
      "outputs": [
        {
          "output_type": "stream",
          "name": "stdout",
          "text": [
            "gram\n"
          ]
        }
      ]
    },
    {
      "cell_type": "markdown",
      "source": [
        "***4. Given the string \"abcdefgh\", use slicing to print only the\n",
        "characters at even indices.***"
      ],
      "metadata": {
        "id": "CFz-5wF89Elq"
      }
    },
    {
      "cell_type": "code",
      "source": [
        "string = \"abcdefgh\"\n",
        "even_indices_chars = string[::2]\n",
        "print(even_indices_chars)\n"
      ],
      "metadata": {
        "colab": {
          "base_uri": "https://localhost:8080/"
        },
        "id": "jNjNwnqm9UJC",
        "outputId": "1d32b64d-e99f-4433-a64a-320509dc3af2"
      },
      "execution_count": 4,
      "outputs": [
        {
          "output_type": "stream",
          "name": "stdout",
          "text": [
            "aceg\n"
          ]
        }
      ]
    },
    {
      "cell_type": "markdown",
      "source": [
        "***5. Given the string \"abcdefg\", use negative indices to extract\n",
        "and print the substring \"efg\".***"
      ],
      "metadata": {
        "id": "NF-V09jC9Xez"
      }
    },
    {
      "cell_type": "code",
      "source": [
        "string = \"abcdefg\"\n",
        "substring = string[-4:]\n",
        "print(substring)\n"
      ],
      "metadata": {
        "colab": {
          "base_uri": "https://localhost:8080/"
        },
        "id": "ZutzROdw9a0I",
        "outputId": "0150d35e-7989-4c8c-e9e2-f079a07eab49"
      },
      "execution_count": 5,
      "outputs": [
        {
          "output_type": "stream",
          "name": "stdout",
          "text": [
            "defg\n"
          ]
        }
      ]
    },
    {
      "cell_type": "markdown",
      "source": [
        "***6. Given the string \"Data Science\", use negative indices to\n",
        "extract and print the last three characters.***"
      ],
      "metadata": {
        "id": "mouhIvFu9f6Z"
      }
    },
    {
      "cell_type": "code",
      "source": [
        "string = \"Data Science\"\n",
        "last_three_chars = string[-3:]\n",
        "print(last_three_chars)\n"
      ],
      "metadata": {
        "colab": {
          "base_uri": "https://localhost:8080/"
        },
        "id": "L8UU-n4V9mjR",
        "outputId": "400e7af0-4fee-4ccd-86b6-782bdaec34fb"
      },
      "execution_count": 6,
      "outputs": [
        {
          "output_type": "stream",
          "name": "stdout",
          "text": [
            "nce\n"
          ]
        }
      ]
    },
    {
      "cell_type": "markdown",
      "source": [
        "***7. Given the string \"abcdefghij\", use slicing with a step to\n",
        "print every second character.***"
      ],
      "metadata": {
        "id": "IYmG0_ep9mRx"
      }
    },
    {
      "cell_type": "code",
      "source": [
        "string = \"abcdefghij\"\n",
        "every_second_char = string[::2]\n",
        "print(every_second_char)\n"
      ],
      "metadata": {
        "colab": {
          "base_uri": "https://localhost:8080/"
        },
        "id": "lnLAgVOn94rT",
        "outputId": "377cdca2-8893-4408-8aae-8ae1cbca4a40"
      },
      "execution_count": 7,
      "outputs": [
        {
          "output_type": "stream",
          "name": "stdout",
          "text": [
            "acegi\n"
          ]
        }
      ]
    },
    {
      "cell_type": "markdown",
      "source": [
        "***8. Given the string \"1234567890\", use slicing with a step to\n",
        "print the odd digits.***"
      ],
      "metadata": {
        "id": "6WKIXIxu98bi"
      }
    },
    {
      "cell_type": "code",
      "source": [
        "string = \"1234567890\"\n",
        "odd_digits = string[1::2]\n",
        "print(odd_digits)\n"
      ],
      "metadata": {
        "colab": {
          "base_uri": "https://localhost:8080/"
        },
        "id": "uTlFpu4u9_dB",
        "outputId": "31b51c1d-9c0e-4064-d6b4-4c54add938bb"
      },
      "execution_count": 8,
      "outputs": [
        {
          "output_type": "stream",
          "name": "stdout",
          "text": [
            "24680\n"
          ]
        }
      ]
    },
    {
      "cell_type": "markdown",
      "source": [
        "***9. Given the string \"Hello\", use slicing to print the string in\n",
        "reverse order.***"
      ],
      "metadata": {
        "id": "jFyJTsSE-DWS"
      }
    },
    {
      "cell_type": "code",
      "source": [
        "string = \"Hello\"\n",
        "reversed_string = string[::-1]\n",
        "print(reversed_string)\n"
      ],
      "metadata": {
        "colab": {
          "base_uri": "https://localhost:8080/"
        },
        "id": "N8FBPlTv-BGh",
        "outputId": "6a2c4eb0-f0e9-475f-cd78-230fe9566ebc"
      },
      "execution_count": 9,
      "outputs": [
        {
          "output_type": "stream",
          "name": "stdout",
          "text": [
            "olleH\n"
          ]
        }
      ]
    },
    {
      "cell_type": "markdown",
      "source": [
        "***10. Given the string \"abcdefghijk\", extract and print the\n",
        "substring \"acegik\" using slicing.***"
      ],
      "metadata": {
        "id": "k-X1Nd7k-LnD"
      }
    },
    {
      "cell_type": "code",
      "source": [
        "string = \"abcdefghijk\"\n",
        "substring = string[::2]\n",
        "print(substring)\n"
      ],
      "metadata": {
        "colab": {
          "base_uri": "https://localhost:8080/"
        },
        "id": "q4yWAFXL-QBi",
        "outputId": "bd460252-9b86-4159-ce94-457e4cfa230b"
      },
      "execution_count": 10,
      "outputs": [
        {
          "output_type": "stream",
          "name": "stdout",
          "text": [
            "acegik\n"
          ]
        }
      ]
    },
    {
      "cell_type": "markdown",
      "source": [
        "***11.Write a program to find sum of all elements in a list of\n",
        "integers***"
      ],
      "metadata": {
        "id": "vBAouic_-SRC"
      }
    },
    {
      "cell_type": "code",
      "source": [
        "numbers = [1, 2, 3, 4, 5, 6, 7, 8, 9, 10]\n",
        "\n",
        "total_sum = sum(numbers)\n",
        "print(\"The sum of all elements in the list is:\", total_sum)\n"
      ],
      "metadata": {
        "colab": {
          "base_uri": "https://localhost:8080/"
        },
        "id": "7VCTDD7m-grx",
        "outputId": "48885573-c75e-4f3f-829d-0a1a13246156"
      },
      "execution_count": 11,
      "outputs": [
        {
          "output_type": "stream",
          "name": "stdout",
          "text": [
            "The sum of all elements in the list is: 55\n"
          ]
        }
      ]
    },
    {
      "cell_type": "markdown",
      "source": [
        "***12. Input a sentence as a string.\n",
        "a) Print its length\n",
        "b) Print the first half of string***"
      ],
      "metadata": {
        "id": "h9w6j0GX-gEA"
      }
    },
    {
      "cell_type": "code",
      "source": [
        "sentence = input(\"Enter a sentence: \")\n",
        "\n",
        "length = len(sentence)\n",
        "print(\"Length of the sentence:\", length)\n",
        "\n",
        "first_half = sentence[:length//2]\n",
        "print(\"First half of the sentence:\", first_half)\n"
      ],
      "metadata": {
        "colab": {
          "base_uri": "https://localhost:8080/"
        },
        "id": "LBWEobDa-vpL",
        "outputId": "f1c47360-ed47-46ce-ad9b-b17a8f2e7b66"
      },
      "execution_count": 12,
      "outputs": [
        {
          "output_type": "stream",
          "name": "stdout",
          "text": [
            "Enter a sentence: my name is gokul\n",
            "Length of the sentence: 16\n",
            "First half of the sentence: my name \n"
          ]
        }
      ]
    },
    {
      "cell_type": "markdown",
      "source": [
        "***13. Write a program to enter a tuple of integers as\n",
        "(78,45,32,19,82,77,40,39). Change the third value in the tuple to\n",
        "100***"
      ],
      "metadata": {
        "id": "MNhDRJYB_J25"
      }
    },
    {
      "cell_type": "code",
      "source": [
        "original_tuple = (78, 45, 32, 19, 82, 77, 40, 39)\n",
        "\n",
        "temp_list = list(original_tuple)\n",
        "\n",
        "temp_list[2] = 100\n",
        "\n",
        "modified_tuple = tuple(temp_list)\n",
        "\n",
        "print(\"Modified tuple:\", modified_tuple)\n"
      ],
      "metadata": {
        "colab": {
          "base_uri": "https://localhost:8080/"
        },
        "id": "yI3Hg5_P-Wn6",
        "outputId": "420eae4d-b4f7-483a-a6b8-7825621c9c59"
      },
      "execution_count": 13,
      "outputs": [
        {
          "output_type": "stream",
          "name": "stdout",
          "text": [
            "Modified tuple: (78, 45, 100, 19, 82, 77, 40, 39)\n"
          ]
        }
      ]
    },
    {
      "cell_type": "markdown",
      "source": [
        "***14. Consider a list\n",
        "listA=[19,32,10,55,31,32,94,29,10,65,77,40,40]\n",
        "(a) Delete the first occurrence of 32\n",
        "(b) Delete all occurrences of 40\n",
        "(c) Delete the value at index=5\n",
        "(d) Modify the value at index=9 as 300\n",
        "(e) Add 200 at index=2\n",
        "(f) Print the final list with its length, maximum value\n",
        "and sum of all elements***"
      ],
      "metadata": {
        "id": "yzBhyk817spK"
      }
    },
    {
      "cell_type": "code",
      "source": [
        "listA = [19, 32, 10, 55, 31, 32, 94, 29, 10, 65, 77, 40, 40]\n",
        "\n",
        "if 32 in listA:\n",
        "    listA.remove(32)\n",
        "\n",
        "listA = [x for x in listA if x != 40]\n",
        "\n",
        "if len(listA) > 5:\n",
        "    del listA[5]\n",
        "\n",
        "if len(listA) > 9:\n",
        "    listA[9] = 300\n",
        "\n",
        "listA.insert(2, 200)\n",
        "\n",
        "print(\"Final list:\", listA)\n",
        "print(\"Length of list:\", len(listA))\n",
        "print(\"Maximum value in list:\", max(listA))\n",
        "print(\"Sum of all elements in list:\", sum(listA))\n",
        "\n"
      ],
      "metadata": {
        "colab": {
          "base_uri": "https://localhost:8080/"
        },
        "id": "BOYinEG87uwy",
        "outputId": "c5d99b97-9560-4d81-986a-29c733a7a866"
      },
      "execution_count": 14,
      "outputs": [
        {
          "output_type": "stream",
          "name": "stdout",
          "text": [
            "Final list: [19, 10, 200, 55, 31, 32, 29, 10, 65, 77]\n",
            "Length of list: 10\n",
            "Maximum value in list: 200\n",
            "Sum of all elements in list: 528\n"
          ]
        }
      ]
    },
    {
      "cell_type": "markdown",
      "source": [
        "***15. Consider a string ”The day has been long”.\n",
        "(a) Delete the value at index =4\n",
        "(b) Print the string 4 times in a single line with space\n",
        "between each repetition\n",
        "(c) Print the string 3 times in a new line each time\n",
        "(d) Modify the string at index 7 as ’A’\n",
        "(e) Print the string from index 4 to 15\n",
        "(f) Print the final string with its length***"
      ],
      "metadata": {
        "id": "wuFy4CXa_Y1h"
      }
    },
    {
      "cell_type": "code",
      "source": [
        "string = \"The day has been long\"\n",
        "\n",
        "string_a = string[:4] + string[5:]\n",
        "print(string_a)\n",
        "\n",
        "print(\" \".join([string] * 4))\n",
        "\n",
        "print(\"\\n\".join([string] * 3))\n",
        "\n",
        "string_list = list(string)\n",
        "string_list[7] = 'A'\n",
        "string_d = ''.join(string_list)\n",
        "print(string_d)\n",
        "\n",
        "substring_e = string[4:16]\n",
        "print(substring_e)\n",
        "\n",
        "print(\"Final string:\", string)\n",
        "print(\"Length of the final string:\", len(string))\n"
      ],
      "metadata": {
        "colab": {
          "base_uri": "https://localhost:8080/"
        },
        "id": "wGxibcXl7y2c",
        "outputId": "80468d3c-2de7-4d60-a74d-94d5d4b1d596"
      },
      "execution_count": 16,
      "outputs": [
        {
          "output_type": "stream",
          "name": "stdout",
          "text": [
            "The ay has been long\n",
            "The day has been long The day has been long The day has been long The day has been long\n",
            "The day has been long\n",
            "The day has been long\n",
            "The day has been long\n",
            "The dayAhas been long\n",
            "day has been\n",
            "Final string: The day has been long\n",
            "Length of the final string: 21\n"
          ]
        }
      ]
    }
  ]
}