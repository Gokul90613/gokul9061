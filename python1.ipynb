{
  "nbformat": 4,
  "nbformat_minor": 0,
  "metadata": {
    "colab": {
      "provenance": [],
      "authorship_tag": "ABX9TyPjW9MPo8fBt2nUadFM78sc",
      "include_colab_link": true
    },
    "kernelspec": {
      "name": "python3",
      "display_name": "Python 3"
    },
    "language_info": {
      "name": "python"
    }
  },
  "cells": [
    {
      "cell_type": "markdown",
      "metadata": {
        "id": "view-in-github",
        "colab_type": "text"
      },
      "source": [
        "<a href=\"https://colab.research.google.com/github/Gokul90613/gokul9061/blob/main/python1.ipynb\" target=\"_parent\"><img src=\"https://colab.research.google.com/assets/colab-badge.svg\" alt=\"Open In Colab\"/></a>"
      ]
    },
    {
      "cell_type": "code",
      "execution_count": 2,
      "metadata": {
        "colab": {
          "base_uri": "https://localhost:8080/"
        },
        "id": "HtK5j6eaBVpY",
        "outputId": "efd86f13-0e4b-4cd7-de89-f715abf1a34c"
      },
      "outputs": [
        {
          "output_type": "stream",
          "name": "stdout",
          "text": [
            "Enter a string value: 23\n",
            "2=1, 3=1\n"
          ]
        }
      ],
      "source": [
        "#1\n",
        "def count_characters(s):\n",
        "    count = {}\n",
        "    for char in s:\n",
        "        if char in count:\n",
        "            count[char] += 1\n",
        "        else:\n",
        "            count[char] = 1\n",
        "    return count\n",
        "\n",
        "# Get user input\n",
        "input_string = input(\"Enter a string value: \")\n",
        "char_count = count_characters(input_string)\n",
        "\n",
        "# Print results\n",
        "output = ', '.join(f\"{char}={count}\" for char, count in char_count.items())\n",
        "print(output)\n"
      ]
    },
    {
      "cell_type": "code",
      "source": [
        "#2\n",
        "def maximum_of_three(a, b, c):\n",
        "    return max(a, b, c)\n",
        "\n",
        "# Example usage\n",
        "num1 = 34\n",
        "num2 = 12\n",
        "num3 = 7\n",
        "print(maximum_of_three(num1, num2, num3))\n"
      ],
      "metadata": {
        "colab": {
          "base_uri": "https://localhost:8080/"
        },
        "id": "ek6asBTIDnSs",
        "outputId": "951f5c02-7f46-4bb2-8817-225642ff1dea"
      },
      "execution_count": 3,
      "outputs": [
        {
          "output_type": "stream",
          "name": "stdout",
          "text": [
            "34\n"
          ]
        }
      ]
    },
    {
      "cell_type": "code",
      "source": [
        "#3\n",
        "def exponent(base, exp):\n",
        "    return base ** exp\n",
        "\n",
        "# Get user input\n",
        "base = int(input(\"Enter the base: \"))\n",
        "exp = int(input(\"Enter the exponent: \"))\n",
        "result = exponent(base, exp)\n",
        "print(result)\n"
      ],
      "metadata": {
        "colab": {
          "base_uri": "https://localhost:8080/"
        },
        "id": "bfZwQliuD3tX",
        "outputId": "de6f0cde-3a93-462a-ffdf-43fb3f452b5d"
      },
      "execution_count": 5,
      "outputs": [
        {
          "output_type": "stream",
          "name": "stdout",
          "text": [
            "Enter the base: 6\n",
            "Enter the exponent: 2\n",
            "36\n"
          ]
        }
      ]
    },
    {
      "cell_type": "code",
      "source": [
        "#4\n",
        "def sum_of_cubes(n):\n",
        "    return sum(i**3 for i in range(1, n))\n",
        "\n",
        "# Example usage\n",
        "number = 4\n",
        "print(sum_of_cubes(number))\n"
      ],
      "metadata": {
        "colab": {
          "base_uri": "https://localhost:8080/"
        },
        "id": "rnHKYl-pEJFV",
        "outputId": "d660c893-ed2b-4774-e6c8-78f401ce1b78"
      },
      "execution_count": 6,
      "outputs": [
        {
          "output_type": "stream",
          "name": "stdout",
          "text": [
            "36\n"
          ]
        }
      ]
    },
    {
      "cell_type": "code",
      "source": [
        "#5\n",
        "for i in range(1, 11):\n",
        "    if i % 2 == 0 and i % 5 == 0:\n",
        "        print(\"FizzBuzz\")\n",
        "    elif i % 2 == 0:\n",
        "        print(\"Fizz\")\n",
        "    elif i % 5 == 0:\n",
        "        print(\"Buzz\")\n",
        "    else:\n",
        "        print(i)\n"
      ],
      "metadata": {
        "colab": {
          "base_uri": "https://localhost:8080/"
        },
        "id": "2Ho9fn-rETb6",
        "outputId": "81779350-0f09-4642-cfa8-15db85517e97"
      },
      "execution_count": 7,
      "outputs": [
        {
          "output_type": "stream",
          "name": "stdout",
          "text": [
            "1\n",
            "Fizz\n",
            "3\n",
            "Fizz\n",
            "Buzz\n",
            "Fizz\n",
            "7\n",
            "Fizz\n",
            "9\n",
            "FizzBuzz\n"
          ]
        }
      ]
    },
    {
      "cell_type": "code",
      "source": [
        "#6\n",
        "from collections import Counter\n",
        "\n",
        "def most_frequent(numbers):\n",
        "    count = Counter(numbers)\n",
        "    return count.most_common(1)[0][0]\n",
        "\n",
        "# Example usage\n",
        "numbers = [2, 3, 4, 2, 5, 2]\n",
        "print(most_frequent(numbers))\n"
      ],
      "metadata": {
        "colab": {
          "base_uri": "https://localhost:8080/"
        },
        "id": "0sUTCm-JEdum",
        "outputId": "54d26e13-8aee-429a-dc9a-9c15dfe99b7a"
      },
      "execution_count": 8,
      "outputs": [
        {
          "output_type": "stream",
          "name": "stdout",
          "text": [
            "2\n"
          ]
        }
      ]
    },
    {
      "cell_type": "code",
      "source": [
        "#7\n",
        "def sum_of_squares(numbers):\n",
        "    return sum(x**2 for x in numbers)\n",
        "\n",
        "# Example usage\n",
        "numbers = [2, 1, 3, 1]\n",
        "print(sum_of_squares(numbers))\n"
      ],
      "metadata": {
        "colab": {
          "base_uri": "https://localhost:8080/"
        },
        "id": "docQwwoTEkdK",
        "outputId": "7630ca0f-39aa-482f-e017-0070b299023f"
      },
      "execution_count": 9,
      "outputs": [
        {
          "output_type": "stream",
          "name": "stdout",
          "text": [
            "15\n"
          ]
        }
      ]
    },
    {
      "cell_type": "code",
      "source": [
        "#8\n",
        "for i in range(1, 16):\n",
        "    if i % 2 == 0:\n",
        "        print(f\"{i}-even\")\n",
        "    else:\n",
        "        print(f\"{i}-odd\")\n"
      ],
      "metadata": {
        "colab": {
          "base_uri": "https://localhost:8080/"
        },
        "id": "C-1vQr_DErea",
        "outputId": "c91cd4af-80ac-4bac-ee53-c1c6f49d564e"
      },
      "execution_count": 10,
      "outputs": [
        {
          "output_type": "stream",
          "name": "stdout",
          "text": [
            "1-odd\n",
            "2-even\n",
            "3-odd\n",
            "4-even\n",
            "5-odd\n",
            "6-even\n",
            "7-odd\n",
            "8-even\n",
            "9-odd\n",
            "10-even\n",
            "11-odd\n",
            "12-even\n",
            "13-odd\n",
            "14-even\n",
            "15-odd\n"
          ]
        }
      ]
    },
    {
      "cell_type": "code",
      "source": [
        "#9\n",
        "def fahrenheit_to_celsius(f):\n",
        "    return (f - 32) * 5 / 9\n",
        "\n",
        "# Get user input\n",
        "fahrenheit = float(input(\"Temperature in Fahrenheit = \"))\n",
        "celsius = fahrenheit_to_celsius(fahrenheit)\n",
        "print(f\"Temperature in Celsius = {round(celsius)}\")\n"
      ],
      "metadata": {
        "colab": {
          "base_uri": "https://localhost:8080/"
        },
        "id": "egYjzLAqExDB",
        "outputId": "55e2cbc3-4a15-47f4-d2cf-713d134a275b"
      },
      "execution_count": 11,
      "outputs": [
        {
          "output_type": "stream",
          "name": "stdout",
          "text": [
            "Temperature in Fahrenheit = 33\n",
            "Temperature in Celsius = 1\n"
          ]
        }
      ]
    },
    {
      "cell_type": "code",
      "source": [
        "#10\n",
        "def factorial(n):\n",
        "    if n == 0:\n",
        "        return 1\n",
        "    else:\n",
        "        return n * factorial(n - 1)\n",
        "\n",
        "# Example usage\n",
        "number = 3\n",
        "print(factorial(number))\n"
      ],
      "metadata": {
        "colab": {
          "base_uri": "https://localhost:8080/"
        },
        "id": "jS72KdniE_D9",
        "outputId": "c708d519-dc59-427f-9588-26819251e256"
      },
      "execution_count": 12,
      "outputs": [
        {
          "output_type": "stream",
          "name": "stdout",
          "text": [
            "6\n"
          ]
        }
      ]
    },
    {
      "cell_type": "code",
      "source": [],
      "metadata": {
        "id": "3DRo3oLoFH2M"
      },
      "execution_count": null,
      "outputs": []
    }
  ]
}