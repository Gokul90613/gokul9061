{
  "nbformat": 4,
  "nbformat_minor": 0,
  "metadata": {
    "colab": {
      "provenance": [],
      "include_colab_link": true
    },
    "kernelspec": {
      "name": "python3",
      "display_name": "Python 3"
    },
    "language_info": {
      "name": "python"
    }
  },
  "cells": [
    {
      "cell_type": "markdown",
      "metadata": {
        "id": "view-in-github",
        "colab_type": "text"
      },
      "source": [
        "<a href=\"https://colab.research.google.com/github/Gokul90613/gokul9061/blob/main/Pandas_Tasksadult_data.ipynb\" target=\"_parent\"><img src=\"https://colab.research.google.com/assets/colab-badge.svg\" alt=\"Open In Colab\"/></a>"
      ]
    },
    {
      "cell_type": "code",
      "execution_count": 3,
      "metadata": {
        "id": "JkDcsOfDRC5o"
      },
      "outputs": [],
      "source": [
        "import pandas as pd"
      ]
    },
    {
      "cell_type": "code",
      "source": [
        "#read the data\n",
        "df = pd.read_csv('/content/adult.csv')\n",
        "print(df.head())"
      ],
      "metadata": {
        "id": "f6v3MFa-RF5i",
        "colab": {
          "base_uri": "https://localhost:8080/"
        },
        "outputId": "c47015b4-1647-49c9-ae18-2825830f1cc2"
      },
      "execution_count": 4,
      "outputs": [
        {
          "output_type": "stream",
          "name": "stdout",
          "text": [
            "   age  workclass  fnlwgt     education  educational-num      marital-status  \\\n",
            "0   25    Private  226802          11th                7       Never-married   \n",
            "1   38    Private   89814       HS-grad                9  Married-civ-spouse   \n",
            "2   28  Local-gov  336951    Assoc-acdm               12  Married-civ-spouse   \n",
            "3   44    Private  160323  Some-college               10  Married-civ-spouse   \n",
            "4   18          ?  103497  Some-college               10       Never-married   \n",
            "\n",
            "          occupation relationship   race  gender  capital-gain  capital-loss  \\\n",
            "0  Machine-op-inspct    Own-child  Black    Male             0             0   \n",
            "1    Farming-fishing      Husband  White    Male             0             0   \n",
            "2    Protective-serv      Husband  White    Male             0             0   \n",
            "3  Machine-op-inspct      Husband  Black    Male          7688             0   \n",
            "4                  ?    Own-child  White  Female             0             0   \n",
            "\n",
            "   hours-per-week native-country income  \n",
            "0              40  United-States  <=50K  \n",
            "1              50  United-States  <=50K  \n",
            "2              40  United-States   >50K  \n",
            "3              40  United-States   >50K  \n",
            "4              30  United-States  <=50K  \n"
          ]
        }
      ]
    },
    {
      "cell_type": "code",
      "source": [
        "#Display the first 5 rows of the dataset.\n",
        "print(df.head(5))"
      ],
      "metadata": {
        "id": "hnbbT3PpRHri",
        "colab": {
          "base_uri": "https://localhost:8080/"
        },
        "outputId": "48ce59b5-0e1d-46f5-de45-78ecaf70a747"
      },
      "execution_count": 5,
      "outputs": [
        {
          "output_type": "stream",
          "name": "stdout",
          "text": [
            "   age  workclass  fnlwgt     education  educational-num      marital-status  \\\n",
            "0   25    Private  226802          11th                7       Never-married   \n",
            "1   38    Private   89814       HS-grad                9  Married-civ-spouse   \n",
            "2   28  Local-gov  336951    Assoc-acdm               12  Married-civ-spouse   \n",
            "3   44    Private  160323  Some-college               10  Married-civ-spouse   \n",
            "4   18          ?  103497  Some-college               10       Never-married   \n",
            "\n",
            "          occupation relationship   race  gender  capital-gain  capital-loss  \\\n",
            "0  Machine-op-inspct    Own-child  Black    Male             0             0   \n",
            "1    Farming-fishing      Husband  White    Male             0             0   \n",
            "2    Protective-serv      Husband  White    Male             0             0   \n",
            "3  Machine-op-inspct      Husband  Black    Male          7688             0   \n",
            "4                  ?    Own-child  White  Female             0             0   \n",
            "\n",
            "   hours-per-week native-country income  \n",
            "0              40  United-States  <=50K  \n",
            "1              50  United-States  <=50K  \n",
            "2              40  United-States   >50K  \n",
            "3              40  United-States   >50K  \n",
            "4              30  United-States  <=50K  \n"
          ]
        }
      ]
    },
    {
      "cell_type": "code",
      "source": [
        "#summary of the DataFrame\n",
        "summary = df.describe(include = 'all')\n",
        "print(summary)"
      ],
      "metadata": {
        "id": "cUkEutZLRMia",
        "colab": {
          "base_uri": "https://localhost:8080/"
        },
        "outputId": "266315b8-18ff-4a87-8dab-718ed1f3f51f"
      },
      "execution_count": 6,
      "outputs": [
        {
          "output_type": "stream",
          "name": "stdout",
          "text": [
            "                 age workclass        fnlwgt education  educational-num  \\\n",
            "count   48842.000000     48842  4.884200e+04     48842     48842.000000   \n",
            "unique           NaN         9           NaN        16              NaN   \n",
            "top              NaN   Private           NaN   HS-grad              NaN   \n",
            "freq             NaN     33906           NaN     15784              NaN   \n",
            "mean       38.643585       NaN  1.896641e+05       NaN        10.078089   \n",
            "std        13.710510       NaN  1.056040e+05       NaN         2.570973   \n",
            "min        17.000000       NaN  1.228500e+04       NaN         1.000000   \n",
            "25%        28.000000       NaN  1.175505e+05       NaN         9.000000   \n",
            "50%        37.000000       NaN  1.781445e+05       NaN        10.000000   \n",
            "75%        48.000000       NaN  2.376420e+05       NaN        12.000000   \n",
            "max        90.000000       NaN  1.490400e+06       NaN        16.000000   \n",
            "\n",
            "            marital-status      occupation relationship   race gender  \\\n",
            "count                48842           48842        48842  48842  48842   \n",
            "unique                   7              15            6      5      2   \n",
            "top     Married-civ-spouse  Prof-specialty      Husband  White   Male   \n",
            "freq                 22379            6172        19716  41762  32650   \n",
            "mean                   NaN             NaN          NaN    NaN    NaN   \n",
            "std                    NaN             NaN          NaN    NaN    NaN   \n",
            "min                    NaN             NaN          NaN    NaN    NaN   \n",
            "25%                    NaN             NaN          NaN    NaN    NaN   \n",
            "50%                    NaN             NaN          NaN    NaN    NaN   \n",
            "75%                    NaN             NaN          NaN    NaN    NaN   \n",
            "max                    NaN             NaN          NaN    NaN    NaN   \n",
            "\n",
            "        capital-gain  capital-loss  hours-per-week native-country income  \n",
            "count   48842.000000  48842.000000    48842.000000          48842  48842  \n",
            "unique           NaN           NaN             NaN             42      2  \n",
            "top              NaN           NaN             NaN  United-States  <=50K  \n",
            "freq             NaN           NaN             NaN          43832  37155  \n",
            "mean     1079.067626     87.502314       40.422382            NaN    NaN  \n",
            "std      7452.019058    403.004552       12.391444            NaN    NaN  \n",
            "min         0.000000      0.000000        1.000000            NaN    NaN  \n",
            "25%         0.000000      0.000000       40.000000            NaN    NaN  \n",
            "50%         0.000000      0.000000       40.000000            NaN    NaN  \n",
            "75%         0.000000      0.000000       45.000000            NaN    NaN  \n",
            "max     99999.000000   4356.000000       99.000000            NaN    NaN  \n"
          ]
        }
      ]
    },
    {
      "cell_type": "code",
      "source": [
        "#descriptive statistics for numeric columns\n",
        "summary = df.describe()\n",
        "print(summary)"
      ],
      "metadata": {
        "id": "egJOKtYGRQIW",
        "colab": {
          "base_uri": "https://localhost:8080/"
        },
        "outputId": "96f498f5-7e3e-428b-bb27-164640dc18fc"
      },
      "execution_count": 7,
      "outputs": [
        {
          "output_type": "stream",
          "name": "stdout",
          "text": [
            "                age        fnlwgt  educational-num  capital-gain  \\\n",
            "count  48842.000000  4.884200e+04     48842.000000  48842.000000   \n",
            "mean      38.643585  1.896641e+05        10.078089   1079.067626   \n",
            "std       13.710510  1.056040e+05         2.570973   7452.019058   \n",
            "min       17.000000  1.228500e+04         1.000000      0.000000   \n",
            "25%       28.000000  1.175505e+05         9.000000      0.000000   \n",
            "50%       37.000000  1.781445e+05        10.000000      0.000000   \n",
            "75%       48.000000  2.376420e+05        12.000000      0.000000   \n",
            "max       90.000000  1.490400e+06        16.000000  99999.000000   \n",
            "\n",
            "       capital-loss  hours-per-week  \n",
            "count  48842.000000    48842.000000  \n",
            "mean      87.502314       40.422382  \n",
            "std      403.004552       12.391444  \n",
            "min        0.000000        1.000000  \n",
            "25%        0.000000       40.000000  \n",
            "50%        0.000000       40.000000  \n",
            "75%        0.000000       45.000000  \n",
            "max     4356.000000       99.000000  \n"
          ]
        }
      ]
    },
    {
      "cell_type": "code",
      "source": [
        "#Display the column names of the DataFrame.\n",
        "print(df.columns)"
      ],
      "metadata": {
        "id": "T5xzlLqtRTYT",
        "colab": {
          "base_uri": "https://localhost:8080/"
        },
        "outputId": "16712445-26a2-4979-fc74-def37dfc9fee"
      },
      "execution_count": 8,
      "outputs": [
        {
          "output_type": "stream",
          "name": "stdout",
          "text": [
            "Index(['age', 'workclass', 'fnlwgt', 'education', 'educational-num',\n",
            "       'marital-status', 'occupation', 'relationship', 'race', 'gender',\n",
            "       'capital-gain', 'capital-loss', 'hours-per-week', 'native-country',\n",
            "       'income'],\n",
            "      dtype='object')\n"
          ]
        }
      ]
    },
    {
      "cell_type": "code",
      "source": [
        "#unique values in the 'workclass' column.\n",
        "\n",
        "unique_values = df['capital-gain'].unique\n",
        "print(unique_values)"
      ],
      "metadata": {
        "id": "GE2XirkjRXAc",
        "colab": {
          "base_uri": "https://localhost:8080/"
        },
        "outputId": "ef7791c8-88e2-49b5-d549-3abb5bd5742d"
      },
      "execution_count": 9,
      "outputs": [
        {
          "output_type": "stream",
          "name": "stdout",
          "text": [
            "<bound method Series.unique of 0            0\n",
            "1            0\n",
            "2            0\n",
            "3         7688\n",
            "4            0\n",
            "         ...  \n",
            "48837        0\n",
            "48838        0\n",
            "48839        0\n",
            "48840        0\n",
            "48841    15024\n",
            "Name: capital-gain, Length: 48842, dtype: int64>\n"
          ]
        }
      ]
    },
    {
      "cell_type": "code",
      "source": [
        "#Create a new column 'income_binary' where <=50K is 0 and >50K is 1.\n",
        "\n",
        "def categorized_income(income):\n",
        "  if income == '<=50K':\n",
        "    return 0\n",
        "  else:\n",
        "    return 1\n",
        "\n",
        "df['income_binary'] = df['income'].apply(categorized_income)\n",
        "\n",
        "print(df.head())"
      ],
      "metadata": {
        "id": "tcSb1bMLRchy",
        "colab": {
          "base_uri": "https://localhost:8080/"
        },
        "outputId": "21015af7-bcea-4655-c913-34de98252069"
      },
      "execution_count": 10,
      "outputs": [
        {
          "output_type": "stream",
          "name": "stdout",
          "text": [
            "   age  workclass  fnlwgt     education  educational-num      marital-status  \\\n",
            "0   25    Private  226802          11th                7       Never-married   \n",
            "1   38    Private   89814       HS-grad                9  Married-civ-spouse   \n",
            "2   28  Local-gov  336951    Assoc-acdm               12  Married-civ-spouse   \n",
            "3   44    Private  160323  Some-college               10  Married-civ-spouse   \n",
            "4   18          ?  103497  Some-college               10       Never-married   \n",
            "\n",
            "          occupation relationship   race  gender  capital-gain  capital-loss  \\\n",
            "0  Machine-op-inspct    Own-child  Black    Male             0             0   \n",
            "1    Farming-fishing      Husband  White    Male             0             0   \n",
            "2    Protective-serv      Husband  White    Male             0             0   \n",
            "3  Machine-op-inspct      Husband  Black    Male          7688             0   \n",
            "4                  ?    Own-child  White  Female             0             0   \n",
            "\n",
            "   hours-per-week native-country income  income_binary  \n",
            "0              40  United-States  <=50K              0  \n",
            "1              50  United-States  <=50K              0  \n",
            "2              40  United-States   >50K              1  \n",
            "3              40  United-States   >50K              1  \n",
            "4              30  United-States  <=50K              0  \n"
          ]
        }
      ]
    },
    {
      "cell_type": "code",
      "source": [
        "#Create a new column 'age_group' categorizing ages into 'Youth' (< 30), 'Adult' (30-60), and 'Senior' (60+).\n",
        "\n",
        "def categorized_age(age):\n",
        "  if age < 30:\n",
        "    return 'Youth'\n",
        "  elif age > 30 and age < 60:\n",
        "    return 'Adult'\n",
        "  else:\n",
        "    return 'Senior'\n",
        "\n",
        "df['age_group'] = df['age'].apply(categorized_age)\n",
        "\n",
        "print(df.head())"
      ],
      "metadata": {
        "id": "e3Jb3Cr0ReFT",
        "colab": {
          "base_uri": "https://localhost:8080/"
        },
        "outputId": "88caeead-063f-4bfd-8caf-177c1212f30e"
      },
      "execution_count": 11,
      "outputs": [
        {
          "output_type": "stream",
          "name": "stdout",
          "text": [
            "   age  workclass  fnlwgt     education  educational-num      marital-status  \\\n",
            "0   25    Private  226802          11th                7       Never-married   \n",
            "1   38    Private   89814       HS-grad                9  Married-civ-spouse   \n",
            "2   28  Local-gov  336951    Assoc-acdm               12  Married-civ-spouse   \n",
            "3   44    Private  160323  Some-college               10  Married-civ-spouse   \n",
            "4   18          ?  103497  Some-college               10       Never-married   \n",
            "\n",
            "          occupation relationship   race  gender  capital-gain  capital-loss  \\\n",
            "0  Machine-op-inspct    Own-child  Black    Male             0             0   \n",
            "1    Farming-fishing      Husband  White    Male             0             0   \n",
            "2    Protective-serv      Husband  White    Male             0             0   \n",
            "3  Machine-op-inspct      Husband  Black    Male          7688             0   \n",
            "4                  ?    Own-child  White  Female             0             0   \n",
            "\n",
            "   hours-per-week native-country income  income_binary age_group  \n",
            "0              40  United-States  <=50K              0     Youth  \n",
            "1              50  United-States  <=50K              0     Adult  \n",
            "2              40  United-States   >50K              1     Youth  \n",
            "3              40  United-States   >50K              1     Adult  \n",
            "4              30  United-States  <=50K              0     Youth  \n"
          ]
        }
      ]
    },
    {
      "cell_type": "code",
      "source": [
        "#Rename the 'educational-num' column to 'education_num'\n",
        "\n",
        "df.rename(columns = {'educational-num': 'educational_num'}, inplace = True)\n",
        "print(df.head())"
      ],
      "metadata": {
        "id": "jW0Ml7yCRkhm",
        "colab": {
          "base_uri": "https://localhost:8080/"
        },
        "outputId": "685aee41-bf5b-4a75-9408-64341006b964"
      },
      "execution_count": 12,
      "outputs": [
        {
          "output_type": "stream",
          "name": "stdout",
          "text": [
            "   age  workclass  fnlwgt     education  educational_num      marital-status  \\\n",
            "0   25    Private  226802          11th                7       Never-married   \n",
            "1   38    Private   89814       HS-grad                9  Married-civ-spouse   \n",
            "2   28  Local-gov  336951    Assoc-acdm               12  Married-civ-spouse   \n",
            "3   44    Private  160323  Some-college               10  Married-civ-spouse   \n",
            "4   18          ?  103497  Some-college               10       Never-married   \n",
            "\n",
            "          occupation relationship   race  gender  capital-gain  capital-loss  \\\n",
            "0  Machine-op-inspct    Own-child  Black    Male             0             0   \n",
            "1    Farming-fishing      Husband  White    Male             0             0   \n",
            "2    Protective-serv      Husband  White    Male             0             0   \n",
            "3  Machine-op-inspct      Husband  Black    Male          7688             0   \n",
            "4                  ?    Own-child  White  Female             0             0   \n",
            "\n",
            "   hours-per-week native-country income  income_binary age_group  \n",
            "0              40  United-States  <=50K              0     Youth  \n",
            "1              50  United-States  <=50K              0     Adult  \n",
            "2              40  United-States   >50K              1     Youth  \n",
            "3              40  United-States   >50K              1     Adult  \n",
            "4              30  United-States  <=50K              0     Youth  \n"
          ]
        }
      ]
    },
    {
      "cell_type": "code",
      "source": [
        "#Replace the missing values represented by '?' in 'workclass' and 'occupation' columns with 'Unknown'.\n",
        "\n",
        "df['workclass'] = df['workclass'].replace('?', 'unknown')\n",
        "df['occupation'] = df['occupation'].replace('?', 'Unknown')\n",
        "\n",
        "print(df.head())"
      ],
      "metadata": {
        "id": "OMykaJ26Rvdz",
        "colab": {
          "base_uri": "https://localhost:8080/"
        },
        "outputId": "87092015-a48f-4737-b8bb-ed00b5edbbf3"
      },
      "execution_count": 13,
      "outputs": [
        {
          "output_type": "stream",
          "name": "stdout",
          "text": [
            "   age  workclass  fnlwgt     education  educational_num      marital-status  \\\n",
            "0   25    Private  226802          11th                7       Never-married   \n",
            "1   38    Private   89814       HS-grad                9  Married-civ-spouse   \n",
            "2   28  Local-gov  336951    Assoc-acdm               12  Married-civ-spouse   \n",
            "3   44    Private  160323  Some-college               10  Married-civ-spouse   \n",
            "4   18    unknown  103497  Some-college               10       Never-married   \n",
            "\n",
            "          occupation relationship   race  gender  capital-gain  capital-loss  \\\n",
            "0  Machine-op-inspct    Own-child  Black    Male             0             0   \n",
            "1    Farming-fishing      Husband  White    Male             0             0   \n",
            "2    Protective-serv      Husband  White    Male             0             0   \n",
            "3  Machine-op-inspct      Husband  Black    Male          7688             0   \n",
            "4            Unknown    Own-child  White  Female             0             0   \n",
            "\n",
            "   hours-per-week native-country income  income_binary age_group  \n",
            "0              40  United-States  <=50K              0     Youth  \n",
            "1              50  United-States  <=50K              0     Adult  \n",
            "2              40  United-States   >50K              1     Youth  \n",
            "3              40  United-States   >50K              1     Adult  \n",
            "4              30  United-States  <=50K              0     Youth  \n"
          ]
        }
      ]
    },
    {
      "cell_type": "code",
      "source": [
        "#Calculate the average age for each workclass.\n",
        "\n",
        "average_age = df.groupby('workclass')['age'].mean()\n",
        "\n",
        "print(average_age)"
      ],
      "metadata": {
        "colab": {
          "base_uri": "https://localhost:8080/"
        },
        "id": "i1aC5SSW9f5g",
        "outputId": "c1b195ec-27d4-4b4c-feea-317ff6773347"
      },
      "execution_count": 14,
      "outputs": [
        {
          "output_type": "stream",
          "name": "stdout",
          "text": [
            "workclass\n",
            "Federal-gov         42.577514\n",
            "Local-gov           41.676020\n",
            "Never-worked        19.900000\n",
            "Private             36.903144\n",
            "Self-emp-inc        45.799410\n",
            "Self-emp-not-inc    45.332470\n",
            "State-gov           39.512367\n",
            "Without-pay         47.285714\n",
            "unknown             40.141122\n",
            "Name: age, dtype: float64\n"
          ]
        }
      ]
    },
    {
      "cell_type": "code",
      "source": [
        "#Find the total capital-gain for each gender.\n",
        "total_capital_gain = df.groupby('gender')['capital-gain'].sum()\n",
        "\n",
        "print(total_capital_gain)"
      ],
      "metadata": {
        "id": "Fy6MdoLLR1sw",
        "colab": {
          "base_uri": "https://localhost:8080/"
        },
        "outputId": "bf316c3e-97a1-4044-a5b8-e2747c339a08"
      },
      "execution_count": 15,
      "outputs": [
        {
          "output_type": "stream",
          "name": "stdout",
          "text": [
            "gender\n",
            "Female     9403120\n",
            "Male      43300701\n",
            "Name: capital-gain, dtype: int64\n"
          ]
        }
      ]
    },
    {
      "cell_type": "code",
      "source": [
        "#Get the count of each marital-status category.\n",
        "\n",
        "count_marital_status = df['marital-status'].value_counts()\n",
        "\n",
        "print(count_marital_status)"
      ],
      "metadata": {
        "id": "1maOMDw4R5UK",
        "colab": {
          "base_uri": "https://localhost:8080/"
        },
        "outputId": "73109b15-9a1a-4425-ecf9-f625f35688cb"
      },
      "execution_count": 16,
      "outputs": [
        {
          "output_type": "stream",
          "name": "stdout",
          "text": [
            "marital-status\n",
            "Married-civ-spouse       22379\n",
            "Never-married            16117\n",
            "Divorced                  6633\n",
            "Separated                 1530\n",
            "Widowed                   1518\n",
            "Married-spouse-absent      628\n",
            "Married-AF-spouse           37\n",
            "Name: count, dtype: int64\n"
          ]
        }
      ]
    },
    {
      "cell_type": "code",
      "source": [
        "#Find the mean hours-per-week worked by individuals in different education levels.\n",
        "mean_hours_per_week = df.groupby('education')['hours-per-week'].mean()\n",
        "\n",
        "print(mean_hours_per_week)"
      ],
      "metadata": {
        "id": "2L4CvtUyR8Fi",
        "colab": {
          "base_uri": "https://localhost:8080/"
        },
        "outputId": "4d79f945-03af-47ed-e2ff-60c56f7cdcfd"
      },
      "execution_count": 17,
      "outputs": [
        {
          "output_type": "stream",
          "name": "stdout",
          "text": [
            "education\n",
            "10th            36.986321\n",
            "11th            33.952539\n",
            "12th            35.374429\n",
            "1st-4th         38.761134\n",
            "5th-6th         38.923379\n",
            "7th-8th         39.003141\n",
            "9th             38.359788\n",
            "Assoc-acdm      40.809494\n",
            "Assoc-voc       41.658418\n",
            "Bachelors       42.482492\n",
            "Doctorate       46.582492\n",
            "HS-grad         40.640775\n",
            "Masters         43.575837\n",
            "Preschool       36.566265\n",
            "Prof-school     47.579137\n",
            "Some-college    38.865784\n",
            "Name: hours-per-week, dtype: float64\n"
          ]
        }
      ]
    },
    {
      "cell_type": "code",
      "source": [
        "#Calculate the mean, median, and standard deviation of 'fnlwgt' for each race\n",
        "\n",
        "mean_median_standarddeviation = df.groupby('race')['fnlwgt'].agg(['mean', 'median', 'std'])\n",
        "\n",
        "print(mean_median_standarddeviation)"
      ],
      "metadata": {
        "id": "tvmvGXFBR_AG",
        "colab": {
          "base_uri": "https://localhost:8080/"
        },
        "outputId": "9ee18e1c-119d-4e5a-b563-2327cde1e1b6"
      },
      "execution_count": 18,
      "outputs": [
        {
          "output_type": "stream",
          "name": "stdout",
          "text": [
            "                             mean    median            std\n",
            "race                                                      \n",
            "Amer-Indian-Eskimo  120110.985106  101579.0   94655.908850\n",
            "Asian-Pac-Islander  159796.946675  139850.0   86997.647681\n",
            "Black               230485.070438  208266.0  125445.929357\n",
            "Other               195715.689655  188066.5   94063.712981\n",
            "White               186894.995738  177287.0  102637.466726\n"
          ]
        }
      ]
    },
    {
      "cell_type": "code",
      "source": [
        "#Get the unique values and their counts for the 'native-country' column\n",
        "\n",
        "native_country = df['native-country'].value_counts()\n",
        "\n",
        "print(native_country)"
      ],
      "metadata": {
        "id": "pxp2d2JTSE1q",
        "colab": {
          "base_uri": "https://localhost:8080/"
        },
        "outputId": "00ec8f0d-8c76-4919-f5c5-376cfb9443c8"
      },
      "execution_count": 19,
      "outputs": [
        {
          "output_type": "stream",
          "name": "stdout",
          "text": [
            "native-country\n",
            "United-States                 43832\n",
            "Mexico                          951\n",
            "?                               857\n",
            "Philippines                     295\n",
            "Germany                         206\n",
            "Puerto-Rico                     184\n",
            "Canada                          182\n",
            "El-Salvador                     155\n",
            "India                           151\n",
            "Cuba                            138\n",
            "England                         127\n",
            "China                           122\n",
            "South                           115\n",
            "Jamaica                         106\n",
            "Italy                           105\n",
            "Dominican-Republic              103\n",
            "Japan                            92\n",
            "Guatemala                        88\n",
            "Poland                           87\n",
            "Vietnam                          86\n",
            "Columbia                         85\n",
            "Haiti                            75\n",
            "Portugal                         67\n",
            "Taiwan                           65\n",
            "Iran                             59\n",
            "Greece                           49\n",
            "Nicaragua                        49\n",
            "Peru                             46\n",
            "Ecuador                          45\n",
            "France                           38\n",
            "Ireland                          37\n",
            "Hong                             30\n",
            "Thailand                         30\n",
            "Cambodia                         28\n",
            "Trinadad&Tobago                  27\n",
            "Laos                             23\n",
            "Yugoslavia                       23\n",
            "Outlying-US(Guam-USVI-etc)       23\n",
            "Scotland                         21\n",
            "Honduras                         20\n",
            "Hungary                          19\n",
            "Holand-Netherlands                1\n",
            "Name: count, dtype: int64\n"
          ]
        }
      ]
    },
    {
      "cell_type": "code",
      "source": [
        "#Filter the dataset to include only individuals with income >50K\n",
        "\n",
        "filter = df[df['income'] == '>50K']\n",
        "\n",
        "print(filter)"
      ],
      "metadata": {
        "id": "WsyyQR9fUDn5",
        "colab": {
          "base_uri": "https://localhost:8080/"
        },
        "outputId": "38d8a982-6aa2-4f19-fd26-15a1a5544bfd"
      },
      "execution_count": 20,
      "outputs": [
        {
          "output_type": "stream",
          "name": "stdout",
          "text": [
            "       age         workclass  fnlwgt     education  educational_num  \\\n",
            "2       28         Local-gov  336951    Assoc-acdm               12   \n",
            "3       44           Private  160323  Some-college               10   \n",
            "7       63  Self-emp-not-inc  104626   Prof-school               15   \n",
            "10      65           Private  184454       HS-grad                9   \n",
            "14      48           Private  279724       HS-grad                9   \n",
            "...    ...               ...     ...           ...              ...   \n",
            "48820   71           unknown  287372     Doctorate               16   \n",
            "48826   39         Local-gov  111499    Assoc-acdm               12   \n",
            "48835   53           Private  321865       Masters               14   \n",
            "48838   40           Private  154374       HS-grad                9   \n",
            "48841   52      Self-emp-inc  287927       HS-grad                9   \n",
            "\n",
            "           marital-status         occupation relationship   race  gender  \\\n",
            "2      Married-civ-spouse    Protective-serv      Husband  White    Male   \n",
            "3      Married-civ-spouse  Machine-op-inspct      Husband  Black    Male   \n",
            "7      Married-civ-spouse     Prof-specialty      Husband  White    Male   \n",
            "10     Married-civ-spouse  Machine-op-inspct      Husband  White    Male   \n",
            "14     Married-civ-spouse  Machine-op-inspct      Husband  White    Male   \n",
            "...                   ...                ...          ...    ...     ...   \n",
            "48820  Married-civ-spouse            Unknown      Husband  White    Male   \n",
            "48826  Married-civ-spouse       Adm-clerical         Wife  White  Female   \n",
            "48835  Married-civ-spouse    Exec-managerial      Husband  White    Male   \n",
            "48838  Married-civ-spouse  Machine-op-inspct      Husband  White    Male   \n",
            "48841  Married-civ-spouse    Exec-managerial         Wife  White  Female   \n",
            "\n",
            "       capital-gain  capital-loss  hours-per-week native-country income  \\\n",
            "2                 0             0              40  United-States   >50K   \n",
            "3              7688             0              40  United-States   >50K   \n",
            "7              3103             0              32  United-States   >50K   \n",
            "10             6418             0              40  United-States   >50K   \n",
            "14             3103             0              48  United-States   >50K   \n",
            "...             ...           ...             ...            ...    ...   \n",
            "48820             0             0              10  United-States   >50K   \n",
            "48826             0             0              20  United-States   >50K   \n",
            "48835             0             0              40  United-States   >50K   \n",
            "48838             0             0              40  United-States   >50K   \n",
            "48841         15024             0              40  United-States   >50K   \n",
            "\n",
            "       income_binary age_group  \n",
            "2                  1     Youth  \n",
            "3                  1     Adult  \n",
            "7                  1    Senior  \n",
            "10                 1    Senior  \n",
            "14                 1     Adult  \n",
            "...              ...       ...  \n",
            "48820              1    Senior  \n",
            "48826              1     Adult  \n",
            "48835              1     Adult  \n",
            "48838              1     Adult  \n",
            "48841              1     Adult  \n",
            "\n",
            "[11687 rows x 17 columns]\n"
          ]
        }
      ]
    },
    {
      "cell_type": "code",
      "source": [
        "#Sort the dataset by age in descending order.\n",
        "\n",
        "sort = df.sort_values(by='age', ascending=False)\n",
        "\n",
        "print(sort)"
      ],
      "metadata": {
        "id": "dt_BdbMfUIQx",
        "colab": {
          "base_uri": "https://localhost:8080/"
        },
        "outputId": "3e8405ba-cb48-4a83-e038-b2ecc2af9f10"
      },
      "execution_count": 21,
      "outputs": [
        {
          "output_type": "stream",
          "name": "stdout",
          "text": [
            "       age  workclass  fnlwgt education  educational_num      marital-status  \\\n",
            "40519   90    unknown  166343   1st-4th                2             Widowed   \n",
            "21553   90    Private  141758       9th                5       Never-married   \n",
            "47977   90    unknown  313986   HS-grad                9  Married-civ-spouse   \n",
            "21651   90  Local-gov  227796   Masters               14  Married-civ-spouse   \n",
            "41584   90    unknown  175444   7th-8th                4           Separated   \n",
            "...    ...        ...     ...       ...              ...                 ...   \n",
            "39614   17    unknown   48751      11th                7       Never-married   \n",
            "23072   17    Private  110723      11th                7       Never-married   \n",
            "33275   17    Private  142457      11th                7       Never-married   \n",
            "31429   17    Private   34019      11th                7       Never-married   \n",
            "20904   17    Private  181580      11th                7       Never-married   \n",
            "\n",
            "            occupation   relationship   race  gender  capital-gain  \\\n",
            "40519          Unknown  Not-in-family  Black  Female             0   \n",
            "21553     Adm-clerical  Not-in-family  White  Female             0   \n",
            "47977          Unknown        Husband  White    Male             0   \n",
            "21651  Exec-managerial        Husband  White    Male         20051   \n",
            "41584          Unknown  Not-in-family  White  Female             0   \n",
            "...                ...            ...    ...     ...           ...   \n",
            "39614          Unknown      Own-child  Black  Female             0   \n",
            "23072            Sales      Own-child  White  Female             0   \n",
            "33275    Other-service      Own-child  Black    Male             0   \n",
            "31429    Other-service      Own-child  White    Male             0   \n",
            "20904    Other-service      Own-child  White  Female             0   \n",
            "\n",
            "       capital-loss  hours-per-week native-country income  income_binary  \\\n",
            "40519             0              40  United-States  <=50K              0   \n",
            "21553             0              40  United-States  <=50K              0   \n",
            "47977             0              40  United-States   >50K              1   \n",
            "21651             0              60  United-States   >50K              1   \n",
            "41584             0              15  United-States  <=50K              0   \n",
            "...             ...             ...            ...    ...            ...   \n",
            "39614             0              40  United-States  <=50K              0   \n",
            "23072             0              25  United-States  <=50K              0   \n",
            "33275             0              20  United-States  <=50K              0   \n",
            "31429             0              20  United-States  <=50K              0   \n",
            "20904             0              16  United-States  <=50K              0   \n",
            "\n",
            "      age_group  \n",
            "40519    Senior  \n",
            "21553    Senior  \n",
            "47977    Senior  \n",
            "21651    Senior  \n",
            "41584    Senior  \n",
            "...         ...  \n",
            "39614     Youth  \n",
            "23072     Youth  \n",
            "33275     Youth  \n",
            "31429     Youth  \n",
            "20904     Youth  \n",
            "\n",
            "[48842 rows x 17 columns]\n"
          ]
        }
      ]
    },
    {
      "cell_type": "code",
      "source": [
        "#Filter the dataset to include only individuals who work more than 40 hours per week.\n",
        "\n",
        "filter = df[df['hours-per-week']>40]\n",
        "\n",
        "print(filter)"
      ],
      "metadata": {
        "id": "H8-HcaOwWeTE",
        "colab": {
          "base_uri": "https://localhost:8080/"
        },
        "outputId": "43d6f0cc-e609-4333-d25b-07f14b2a7321"
      },
      "execution_count": 22,
      "outputs": [
        {
          "output_type": "stream",
          "name": "stdout",
          "text": [
            "       age         workclass  fnlwgt     education  educational_num  \\\n",
            "1       38           Private   89814       HS-grad                9   \n",
            "14      48           Private  279724       HS-grad                9   \n",
            "15      43           Private  346189       Masters               14   \n",
            "19      40           Private   85019     Doctorate               16   \n",
            "20      34           Private  107914     Bachelors               13   \n",
            "...    ...               ...     ...           ...              ...   \n",
            "48819   38           Private  139180     Bachelors               13   \n",
            "48824   45         Local-gov  119199    Assoc-acdm               12   \n",
            "48829   65  Self-emp-not-inc   99359   Prof-school               15   \n",
            "48831   43  Self-emp-not-inc   27242  Some-college               10   \n",
            "48833   43           Private   84661     Assoc-voc               11   \n",
            "\n",
            "           marital-status         occupation   relationship  \\\n",
            "1      Married-civ-spouse    Farming-fishing        Husband   \n",
            "14     Married-civ-spouse  Machine-op-inspct        Husband   \n",
            "15     Married-civ-spouse    Exec-managerial        Husband   \n",
            "19     Married-civ-spouse     Prof-specialty        Husband   \n",
            "20     Married-civ-spouse       Tech-support        Husband   \n",
            "...                   ...                ...            ...   \n",
            "48819            Divorced     Prof-specialty      Unmarried   \n",
            "48824            Divorced     Prof-specialty      Unmarried   \n",
            "48829       Never-married     Prof-specialty  Not-in-family   \n",
            "48831  Married-civ-spouse       Craft-repair        Husband   \n",
            "48833  Married-civ-spouse              Sales        Husband   \n",
            "\n",
            "                     race  gender  capital-gain  capital-loss  hours-per-week  \\\n",
            "1                   White    Male             0             0              50   \n",
            "14                  White    Male          3103             0              48   \n",
            "15                  White    Male             0             0              50   \n",
            "19     Asian-Pac-Islander    Male             0             0              45   \n",
            "20                  White    Male             0             0              47   \n",
            "...                   ...     ...           ...           ...             ...   \n",
            "48819               Black  Female         15020             0              45   \n",
            "48824               White  Female             0             0              48   \n",
            "48829               White    Male          1086             0              60   \n",
            "48831               White    Male             0             0              50   \n",
            "48833               White    Male             0             0              45   \n",
            "\n",
            "      native-country income  income_binary age_group  \n",
            "1      United-States  <=50K              0     Adult  \n",
            "14     United-States   >50K              1     Adult  \n",
            "15     United-States   >50K              1     Adult  \n",
            "19                 ?   >50K              1     Adult  \n",
            "20     United-States   >50K              1     Adult  \n",
            "...              ...    ...            ...       ...  \n",
            "48819  United-States   >50K              1     Adult  \n",
            "48824  United-States  <=50K              0     Adult  \n",
            "48829  United-States  <=50K              0    Senior  \n",
            "48831  United-States  <=50K              0     Adult  \n",
            "48833  United-States  <=50K              0     Adult  \n",
            "\n",
            "[14352 rows x 17 columns]\n"
          ]
        }
      ]
    },
    {
      "cell_type": "code",
      "source": [
        "#Calculate the percentage of missing values in each column.\n",
        "\n",
        "missing_values = df.isnull().mean() * 100\n",
        "\n",
        "print(missing_values)"
      ],
      "metadata": {
        "id": "JZMPlZG6WnNN",
        "colab": {
          "base_uri": "https://localhost:8080/"
        },
        "outputId": "f24b2582-4548-4164-c89e-6cc662cbb07e"
      },
      "execution_count": 23,
      "outputs": [
        {
          "output_type": "stream",
          "name": "stdout",
          "text": [
            "age                0.0\n",
            "workclass          0.0\n",
            "fnlwgt             0.0\n",
            "education          0.0\n",
            "educational_num    0.0\n",
            "marital-status     0.0\n",
            "occupation         0.0\n",
            "relationship       0.0\n",
            "race               0.0\n",
            "gender             0.0\n",
            "capital-gain       0.0\n",
            "capital-loss       0.0\n",
            "hours-per-week     0.0\n",
            "native-country     0.0\n",
            "income             0.0\n",
            "income_binary      0.0\n",
            "age_group          0.0\n",
            "dtype: float64\n"
          ]
        }
      ]
    },
    {
      "cell_type": "code",
      "source": [
        "#Calculate the median income by education level and gender.\n",
        "\n",
        "print(df[['education', 'gender', 'income']].isnull().sum())\n",
        "\n",
        "def convert_income(income):\n",
        "    if income == '>50K':\n",
        "        return 1\n",
        "    else:\n",
        "        return 0\n",
        "\n",
        "df['income_numeric'] = df['income'].apply(convert_income)\n",
        "median_income = df.groupby(['education', 'gender'])['income_numeric'].median()\n",
        "\n",
        "print(median_income)"
      ],
      "metadata": {
        "id": "OOwioDK6WwlN",
        "colab": {
          "base_uri": "https://localhost:8080/"
        },
        "outputId": "ff9b1398-4254-4706-b050-88fb230437d6"
      },
      "execution_count": 24,
      "outputs": [
        {
          "output_type": "stream",
          "name": "stdout",
          "text": [
            "education    0\n",
            "gender       0\n",
            "income       0\n",
            "dtype: int64\n",
            "education     gender\n",
            "10th          Female    0.0\n",
            "              Male      0.0\n",
            "11th          Female    0.0\n",
            "              Male      0.0\n",
            "12th          Female    0.0\n",
            "              Male      0.0\n",
            "1st-4th       Female    0.0\n",
            "              Male      0.0\n",
            "5th-6th       Female    0.0\n",
            "              Male      0.0\n",
            "7th-8th       Female    0.0\n",
            "              Male      0.0\n",
            "9th           Female    0.0\n",
            "              Male      0.0\n",
            "Assoc-acdm    Female    0.0\n",
            "              Male      0.0\n",
            "Assoc-voc     Female    0.0\n",
            "              Male      0.0\n",
            "Bachelors     Female    0.0\n",
            "              Male      1.0\n",
            "Doctorate     Female    1.0\n",
            "              Male      1.0\n",
            "HS-grad       Female    0.0\n",
            "              Male      0.0\n",
            "Masters       Female    0.0\n",
            "              Male      1.0\n",
            "Preschool     Female    0.0\n",
            "              Male      0.0\n",
            "Prof-school   Female    0.0\n",
            "              Male      1.0\n",
            "Some-college  Female    0.0\n",
            "              Male      0.0\n",
            "Name: income_numeric, dtype: float64\n"
          ]
        }
      ]
    },
    {
      "cell_type": "code",
      "source": [
        "#Find the top 3 occupations with the highest average capital-gain.\n",
        "\n",
        "average_capital_gain = df.groupby('occupation')['capital-gain'].mean()\n",
        "\n",
        "top_3_occupations = average_capital_gain.sort_values(ascending=False).head(3)\n",
        "\n",
        "print(top_3_occupations)"
      ],
      "metadata": {
        "id": "r0KetkkoXAeD",
        "colab": {
          "base_uri": "https://localhost:8080/"
        },
        "outputId": "63fda136-7448-49c7-8d81-2507efa7d962"
      },
      "execution_count": 25,
      "outputs": [
        {
          "output_type": "stream",
          "name": "stdout",
          "text": [
            "occupation\n",
            "Prof-specialty     2745.918017\n",
            "Exec-managerial    2277.755504\n",
            "Sales              1266.898256\n",
            "Name: capital-gain, dtype: float64\n"
          ]
        }
      ]
    },
    {
      "cell_type": "code",
      "source": [
        "#Filter the dataset to include individuals who are 'Married-civ-spouse' and have an income >50K\n",
        "\n",
        "filter = df[(df['marital-status'] == 'Married-civ-spouse') & (df['income'] == '>50K')]\n",
        "\n",
        "print(filter)"
      ],
      "metadata": {
        "id": "x97bC-MPXHGP",
        "colab": {
          "base_uri": "https://localhost:8080/"
        },
        "outputId": "6f4fb2a9-cd3a-4e84-b259-e5b634ad2005"
      },
      "execution_count": 26,
      "outputs": [
        {
          "output_type": "stream",
          "name": "stdout",
          "text": [
            "       age         workclass  fnlwgt     education  educational_num  \\\n",
            "2       28         Local-gov  336951    Assoc-acdm               12   \n",
            "3       44           Private  160323  Some-college               10   \n",
            "7       63  Self-emp-not-inc  104626   Prof-school               15   \n",
            "10      65           Private  184454       HS-grad                9   \n",
            "14      48           Private  279724       HS-grad                9   \n",
            "...    ...               ...     ...           ...              ...   \n",
            "48820   71           unknown  287372     Doctorate               16   \n",
            "48826   39         Local-gov  111499    Assoc-acdm               12   \n",
            "48835   53           Private  321865       Masters               14   \n",
            "48838   40           Private  154374       HS-grad                9   \n",
            "48841   52      Self-emp-inc  287927       HS-grad                9   \n",
            "\n",
            "           marital-status         occupation relationship   race  gender  \\\n",
            "2      Married-civ-spouse    Protective-serv      Husband  White    Male   \n",
            "3      Married-civ-spouse  Machine-op-inspct      Husband  Black    Male   \n",
            "7      Married-civ-spouse     Prof-specialty      Husband  White    Male   \n",
            "10     Married-civ-spouse  Machine-op-inspct      Husband  White    Male   \n",
            "14     Married-civ-spouse  Machine-op-inspct      Husband  White    Male   \n",
            "...                   ...                ...          ...    ...     ...   \n",
            "48820  Married-civ-spouse            Unknown      Husband  White    Male   \n",
            "48826  Married-civ-spouse       Adm-clerical         Wife  White  Female   \n",
            "48835  Married-civ-spouse    Exec-managerial      Husband  White    Male   \n",
            "48838  Married-civ-spouse  Machine-op-inspct      Husband  White    Male   \n",
            "48841  Married-civ-spouse    Exec-managerial         Wife  White  Female   \n",
            "\n",
            "       capital-gain  capital-loss  hours-per-week native-country income  \\\n",
            "2                 0             0              40  United-States   >50K   \n",
            "3              7688             0              40  United-States   >50K   \n",
            "7              3103             0              32  United-States   >50K   \n",
            "10             6418             0              40  United-States   >50K   \n",
            "14             3103             0              48  United-States   >50K   \n",
            "...             ...           ...             ...            ...    ...   \n",
            "48820             0             0              10  United-States   >50K   \n",
            "48826             0             0              20  United-States   >50K   \n",
            "48835             0             0              40  United-States   >50K   \n",
            "48838             0             0              40  United-States   >50K   \n",
            "48841         15024             0              40  United-States   >50K   \n",
            "\n",
            "       income_binary age_group  income_numeric  \n",
            "2                  1     Youth               1  \n",
            "3                  1     Adult               1  \n",
            "7                  1    Senior               1  \n",
            "10                 1    Senior               1  \n",
            "14                 1     Adult               1  \n",
            "...              ...       ...             ...  \n",
            "48820              1    Senior               1  \n",
            "48826              1     Adult               1  \n",
            "48835              1     Adult               1  \n",
            "48838              1     Adult               1  \n",
            "48841              1     Adult               1  \n",
            "\n",
            "[9984 rows x 18 columns]\n"
          ]
        }
      ]
    }
  ]
}